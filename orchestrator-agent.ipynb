{
 "cells": [
  {
   "cell_type": "markdown",
   "id": "4202504a",
   "metadata": {},
   "source": [
    "## Orchestrator\n",
    "\n",
    "Orchestrator file will install all the relevant dependencies & execute predefined automation steps defined in below"
   ]
  },
  {
   "cell_type": "code",
   "execution_count": null,
   "id": "07395d0d",
   "metadata": {},
   "outputs": [],
   "source": [
    "%pip install selenium\n",
    "%pip install pydantic\n",
    "%pip install langchain_core\n",
    "%pip install langchain_openai\n",
    "%pip install langgraph\n",
    "%pip install dotenv\n",
    "%pip install numpy\n",
    "%pip install openai\n",
    "%pip install bs4\n",
    "%pip install faiss\n",
    "%pip install IPython"
   ]
  },
  {
   "cell_type": "code",
   "execution_count": null,
   "id": "c997cce6",
   "metadata": {},
   "outputs": [],
   "source": [
    "from selenium.webdriver.support import expected_conditions as EC\n",
    "from selenium import webdriver\n",
    "from selenium.webdriver.support.ui import WebDriverWait"
   ]
  },
  {
   "cell_type": "markdown",
   "id": "05d811a8",
   "metadata": {},
   "source": [
    "#### Predefine Sample Execution\n",
    "\n",
    ">The predifined steps is just a expample & Google may interrupt the execution via its anti automation mechanism"
   ]
  },
  {
   "cell_type": "code",
   "execution_count": null,
   "id": "109a572b",
   "metadata": {},
   "outputs": [],
   "source": [
    "# Parameters used for test the agent\n",
    "WEB_URL = \"https://www.google.com/\"\n",
    "STEPS = [\"Type 'OpenAI' in serach box\", \n",
    "         \"Press Enter to Google search button\"]"
   ]
  },
  {
   "cell_type": "code",
   "execution_count": null,
   "id": "faf9187b",
   "metadata": {},
   "outputs": [],
   "source": [
    "driver = webdriver.Chrome()\n",
    "\n",
    "%run ./context-builder-agent.ipynb\n",
    "agent1_result = run_agent1(driver, WEB_URL)\n",
    "\n",
    "print(\"Agent 1 Result: \", agent1_result)\n",
    "\n",
    "%run ./executer-agent.ipynb\n",
    "agent2_result = run_agent2(driver, WEB_URL, STEPS)\n",
    "\n",
    "print(\"Agent 2 Result: \", agent2_result)\n",
    "        \n",
    "driver.quit()"
   ]
  }
 ],
 "metadata": {
  "kernelspec": {
   "display_name": "Python 3",
   "language": "python",
   "name": "python3"
  },
  "language_info": {
   "codemirror_mode": {
    "name": "ipython",
    "version": 3
   },
   "file_extension": ".py",
   "mimetype": "text/x-python",
   "name": "python",
   "nbconvert_exporter": "python",
   "pygments_lexer": "ipython3",
   "version": "3.13.4"
  }
 },
 "nbformat": 4,
 "nbformat_minor": 5
}
