{
 "cells": [
  {
   "cell_type": "code",
   "execution_count": null,
   "id": "c997cce6",
   "metadata": {},
   "outputs": [],
   "source": [
    "from selenium.webdriver.support import expected_conditions as EC\n",
    "from selenium import webdriver\n",
    "from selenium.webdriver.support.ui import WebDriverWait"
   ]
  },
  {
   "cell_type": "code",
   "execution_count": null,
   "id": "109a572b",
   "metadata": {},
   "outputs": [],
   "source": [
    "# Parameters used for test the agent\n",
    "WEB_URL = \"https://www.google.com/\"\n",
    "STEPS = [\"Type 'OpenAI' in serach box\", \n",
    "         \"Press Enter to Google search button\"]"
   ]
  },
  {
   "cell_type": "code",
   "execution_count": null,
   "id": "faf9187b",
   "metadata": {},
   "outputs": [],
   "source": [
    "driver = webdriver.Chrome()\n",
    "\n",
    "%run ./context-builder-agent.ipynb\n",
    "agent1_result = run_agent1(driver, WEB_URL)\n",
    "\n",
    "print(\"Agent 1 Result: \", agent1_result)\n",
    "\n",
    "%run ./executer-agent.ipynb\n",
    "agent2_result = run_agent2(driver, WEB_URL, STEPS)\n",
    "\n",
    "print(\"Agent 2 Result: \", agent2_result)\n",
    "        \n",
    "driver.quit()"
   ]
  }
 ],
 "metadata": {
  "kernelspec": {
   "display_name": "Python 3",
   "language": "python",
   "name": "python3"
  },
  "language_info": {
   "codemirror_mode": {
    "name": "ipython",
    "version": 3
   },
   "file_extension": ".py",
   "mimetype": "text/x-python",
   "name": "python",
   "nbconvert_exporter": "python",
   "pygments_lexer": "ipython3",
   "version": "3.13.4"
  }
 },
 "nbformat": 4,
 "nbformat_minor": 5
}
