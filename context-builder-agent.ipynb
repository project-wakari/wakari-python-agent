{
 "cells": [
  {
   "cell_type": "markdown",
   "id": "f166bc91",
   "metadata": {},
   "source": [
    "## Agent 1: Context-Builder\n",
    "\n",
    "Agent responsible for extract HTML structure of web page in Selinium friendly format.\n",
    "\n",
    "#### Prerequisites\n",
    "\n",
    "- Download the appropriate [Chrome WebDriver](https://googlechromelabs.github.io/chrome-for-testing/)\n",
    "- Set the WebDriver path in environment variable"
   ]
  },
  {
   "cell_type": "code",
   "execution_count": 35,
   "id": "e7a194f2",
   "metadata": {},
   "outputs": [],
   "source": [
    "from typing import TypedDict, List \n",
    "from langgraph.graph import StateGraph, END\n",
    "from IPython.display import Image, display\n",
    "from typing import List\n",
    "from bs4 import BeautifulSoup\n",
    "from typing import TypedDict, List, Optional\n",
    "from selenium import webdriver\n",
    "from selenium.webdriver.common.by import By\n",
    "from selenium.webdriver.support.ui import WebDriverWait\n",
    "from selenium.webdriver.support import expected_conditions as EC\n",
    "from dotenv import load_dotenv\n",
    "import os\n",
    "from openai import OpenAI\n",
    "import faiss\n",
    "import numpy as np\n",
    "import json"
   ]
  },
  {
   "cell_type": "code",
   "execution_count": 36,
   "id": "a545aba6",
   "metadata": {},
   "outputs": [],
   "source": [
    "# Load environment variables from .env import load_env & set up OpenAI client\n",
    "load_dotenv()\n",
    "model = OpenAI(api_key=os.getenv(\"OPENAI_API_KEY\"))"
   ]
  },
  {
   "cell_type": "code",
   "execution_count": null,
   "id": "d9523cc6",
   "metadata": {},
   "outputs": [],
   "source": [
    "# Define structure for HTML element's attributes\n",
    "class HTMLElementAttribute(TypedDict):\n",
    "    attribute_name: str\n",
    "    attribute_value: Optional[str]\n",
    "\n",
    "# Define structure for HTML elements\n",
    "class HTMLElement(TypedDict):\n",
    "    html_element_id: int\n",
    "    html_element_type: str\n",
    "    html_attribute : List[HTMLElementAttribute]\n",
    "\n",
    "# Agent state and types\n",
    "class AgentState(TypedDict):\n",
    "    url:str\n",
    "    driver: webdriver.Chrome\n",
    "    html_elements: List[HTMLElement]"
   ]
  },
  {
   "cell_type": "code",
   "execution_count": null,
   "id": "19c0024f",
   "metadata": {},
   "outputs": [],
   "source": [
    "def extract_html_structure(state: AgentState) -> AgentState:\n",
    "    \"\"\"Fetch the HTML from the given URL and extract HTML elements.\"\"\"\n",
    "\n",
    "    url = state[\"url\"]\n",
    "    \n",
    "    try:\n",
    "        driver = state[\"driver\"]\n",
    "        driver.get(url)\n",
    "        \n",
    "        # Wait for the page to load completely\n",
    "        WebDriverWait(driver, 10).until(\n",
    "            EC.presence_of_element_located((By.TAG_NAME, \"body\"))\n",
    "        )\n",
    "        \n",
    "        page_source = driver.page_source\n",
    "    except Exception as e:\n",
    "        print(f\"Error fetching URL: {e}\")\n",
    "        state[\"html_elements\"] = []\n",
    "        return state\n",
    "\n",
    "    soup = BeautifulSoup(page_source, \"html.parser\")\n",
    "\n",
    "    elements: List[HTMLElement] = []\n",
    "\n",
    "    # Define the tags and their corresponding types\n",
    "    tag_type_map = [ (\"input\"), (\"textarea\"), (\"button\")] # (\"select\"), (\"option\"), (\"a\"), (\"img\"), (\"div\"), (\"span\") ]\n",
    "\n",
    "    for tag_name in tag_type_map:\n",
    "        for tag in soup.find_all(tag_name):\n",
    "            attributes = []\n",
    "            for attr_name, attr_value in tag.attrs.items():\n",
    "                if isinstance(attr_value, list):\n",
    "                    attr_value_str = \" \".join(attr_value)\n",
    "                else:\n",
    "                    attr_value_str = str(attr_value)\n",
    "                attributes.append({\n",
    "                    \"attribute_name\": attr_name,\n",
    "                    \"attribute_value\": attr_value_str\n",
    "                })\n",
    "            \n",
    "            element: HTMLElement = {\n",
    "                \"html_element_id\": len(elements) + 1,\n",
    "                \"html_element_type\": tag.name,\n",
    "                \"html_attribute\": attributes\n",
    "            }\n",
    "            elements.append(element)\n",
    "\n",
    "    state[\"html_elements\"] = elements\n",
    "    return state"
   ]
  },
  {
   "cell_type": "code",
   "execution_count": null,
   "id": "e4523689",
   "metadata": {},
   "outputs": [],
   "source": [
    "# Step 1: Serialize HTML elements\n",
    "def serialize_html_element(element):\n",
    "    element_type = element['html_element_type']\n",
    "    attributes = element['html_attribute']\n",
    "    attrs_str = \" \".join(\n",
    "        f'{attr[\"attribute_name\"]}=\"{(\" \".join(attr[\"attribute_value\"]) if isinstance(attr[\"attribute_value\"], list) else attr[\"attribute_value\"])}\"'\n",
    "        for attr in attributes\n",
    "    )\n",
    "    return f\"<{element_type} {attrs_str}>\"\n",
    "\n",
    "# Step 2: Embed using OpenAI\n",
    "def embed_text(text):\n",
    "    response = model.embeddings.create(\n",
    "        model=\"text-embedding-3-small\",\n",
    "        input=text\n",
    "    )\n",
    "    return np.array(response.data[0].embedding, dtype='float32')\n",
    "\n",
    "def store_html_structure(state: AgentState) -> AgentState:\n",
    "    \"\"\"Store the HTML structure in a vector database.\"\"\"\n",
    "\n",
    "    dimension = 1536\n",
    "    index = faiss.IndexFlatL2(dimension)\n",
    "    id_map = {}\n",
    "\n",
    "    for i, element in enumerate(state[\"html_elements\"]):\n",
    "        html_id = element['html_element_id']\n",
    "        serialized = serialize_html_element(element)\n",
    "        embedding = embed_text(serialized)\n",
    "        index.add(np.array([embedding]))\n",
    "        id_map[i] = html_id\n",
    "\n",
    "    if not os.path.exists(\"storage\"):\n",
    "        os.makedirs(\"storage\")\n",
    "    \n",
    "    faiss.write_index(index, os.path.join(\"storage\", \"html_index.faiss\"))\n",
    "\n",
    "    with open(os.path.join(\"storage\", \"id_map.json\"), \"w\") as f:\n",
    "        json.dump(id_map, f)\n",
    "        \n",
    "    with open(os.path.join(\"storage\", \"element_map.json\"), \"w\", encoding=\"utf-8\") as f:\n",
    "        json.dump(state[\"html_elements\"], f, ensure_ascii=False, indent=2)\n",
    "    \n",
    "    return state"
   ]
  },
  {
   "cell_type": "code",
   "execution_count": 40,
   "id": "b3875806",
   "metadata": {},
   "outputs": [],
   "source": [
    "graph = StateGraph(AgentState)\n",
    "\n",
    "graph.add_node(\"extract_html_structure\", extract_html_structure)\n",
    "graph.add_node(\"store_html_structure\", store_html_structure)\n",
    "\n",
    "graph.add_edge(\"extract_html_structure\", \"store_html_structure\")\n",
    "\n",
    "graph.set_entry_point(\"extract_html_structure\")\n",
    "graph.set_finish_point(\"store_html_structure\")\n",
    "\n",
    "app = graph.compile()"
   ]
  },
  {
   "cell_type": "code",
   "execution_count": 41,
   "id": "b67ca046",
   "metadata": {},
   "outputs": [
    {
     "data": {
      "image/png": "[encoded data removed]",
      "text/plain": [
       "<IPython.core.display.Image object>"
      ]
     },
     "metadata": {},
     "output_type": "display_data"
    }
   ],
   "source": [
    "display(Image(app.get_graph().draw_mermaid_png()))"
   ]
  },
  {
   "cell_type": "code",
   "execution_count": null,
   "id": "cfa26f62",
   "metadata": {},
   "outputs": [],
   "source": [
    "def run_agent1(driver, url : str):\n",
    "    result = app.invoke(\n",
    "        AgentState(\n",
    "            url = url,\n",
    "            driver = driver,\n",
    "            html_elements=[]\n",
    "        )\n",
    "    )\n",
    "    return result"
   ]
  }
 ],
 "metadata": {
  "kernelspec": {
   "display_name": "Python 3",
   "language": "python",
   "name": "python3"
  },
  "language_info": {
   "codemirror_mode": {
    "name": "ipython",
    "version": 3
   },
   "file_extension": ".py",
   "mimetype": "text/x-python",
   "name": "python",
   "nbconvert_exporter": "python",
   "pygments_lexer": "ipython3",
   "version": "3.13.4"
  }
 },
 "nbformat": 4,
 "nbformat_minor": 5
}
